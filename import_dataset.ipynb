{
 "cells": [
  {
   "cell_type": "code",
   "execution_count": null,
   "id": "19858b48",
   "metadata": {
    "cellId": "cs0p8bkmbc5vei238sus9"
   },
   "outputs": [],
   "source": [
    "#pragma dataset init NBaloT_BabyMonitor --size 4Gb\n",
    "\n",
    "import requests\n",
    "from urllib.parse import urlencode\n",
    "from io import BytesIO\n",
    "from zipfile import ZipFile\n",
    "\n",
    "base_url = 'https://cloud-api.yandex.net/v1/disk/public/resources/download?'\n",
    "public_key = 'https://disk.yandex.ru/d/JEKgKmjkNjAmNg'\n",
    "\n",
    "final_url = base_url + urlencode(dict(public_key=public_key))\n",
    "response = requests.get(final_url)\n",
    "download_url = response.json()['href']\n",
    "response = requests.get(download_url)\n",
    "\n",
    "dist_path = '/home/jupyter/mnt/datasets/NBaloT_BabyMonitor/'\n",
    "zipfile = ZipFile(BytesIO(response.content))\n",
    "zipfile.extractall(path=dist_path)"
   ]
  }
 ],
 "metadata": {
  "language_info": {
   "codemirror_mode": {
    "name": "ipython",
    "version": 3
   },
   "file_extension": ".py",
   "mimetype": "text/x-python",
   "name": "python",
   "nbconvert_exporter": "python",
   "pygments_lexer": "ipython3",
   "version": "3.7.7"
  },
  "notebookId": "52029047-8952-47b7-a477-b3bad34bfe16",
  "notebookPath": "import_dataset.ipynb"
 },
 "nbformat": 4,
 "nbformat_minor": 5
}
